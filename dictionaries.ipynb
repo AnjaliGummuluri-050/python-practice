{
  "nbformat": 4,
  "nbformat_minor": 0,
  "metadata": {
    "colab": {
      "name": "dictionaries.ipynb",
      "provenance": [],
      "collapsed_sections": [],
      "authorship_tag": "ABX9TyNTVp3pyVjhCnUhHZW6JajP",
      "include_colab_link": true
    },
    "kernelspec": {
      "name": "python3",
      "display_name": "Python 3"
    },
    "language_info": {
      "name": "python"
    }
  },
  "cells": [
    {
      "cell_type": "markdown",
      "metadata": {
        "id": "view-in-github",
        "colab_type": "text"
      },
      "source": [
        "<a href=\"https://colab.research.google.com/github/AnjaliGummuluri-050/python-practice/blob/main/dictionaries.ipynb\" target=\"_parent\"><img src=\"https://colab.research.google.com/assets/colab-badge.svg\" alt=\"Open In Colab\"/></a>"
      ]
    },
    {
      "cell_type": "code",
      "execution_count": 4,
      "metadata": {
        "colab": {
          "base_uri": "https://localhost:8080/"
        },
        "id": "fk5-L7dOg5JS",
        "outputId": "447686d6-f593-436c-b6b7-644776c685a3"
      },
      "outputs": [
        {
          "output_type": "stream",
          "name": "stdout",
          "text": [
            "Enter your name: anj\n",
            "Enter your CGPA4\n",
            "Enter your phone number: 444\n",
            "Enter your section: w\n",
            "{'Name': 'anj', 'CGPA': 4, 'Ph No.': 444, 'Section': 'w'}\n",
            "4\n",
            "4\n"
          ]
        }
      ],
      "source": [
        "thisdict={\n",
        "    \"Name\":str(input(\"Enter your name: \")),\n",
        "    \"CGPA\":int(input(\"Enter your CGPA\")),\n",
        "    \"Ph No.\":int(input(\"Enter your phone number: \")),\n",
        "    \"Section\":str(input(\"Enter your section: \")),\n",
        "}\n",
        "print(thisdict)\n",
        "print(thisdict['CGPA'])\n",
        "print(len(thisdict))"
      ]
    },
    {
      "cell_type": "code",
      "source": [
        "thisdict = {\n",
        "  \"brand\": \"Ford\",\n",
        "  \"model\": \"Mustang\",\n",
        "  \"year\": 1964,\n",
        "  \"year\": 2020\n",
        "}\n",
        "print(thisdict)\n"
      ],
      "metadata": {
        "colab": {
          "base_uri": "https://localhost:8080/"
        },
        "id": "lXJ_Q6ALiq66",
        "outputId": "abddd407-55d0-4773-eec2-ee294f7d894d"
      },
      "execution_count": 3,
      "outputs": [
        {
          "output_type": "stream",
          "name": "stdout",
          "text": [
            "{'brand': 'Ford', 'model': 'Mustang', 'year': 2020}\n"
          ]
        }
      ]
    },
    {
      "cell_type": "code",
      "source": [
        "thisdict={\n",
        "    \"Name\":str(input(\"Enter your name: \")),\n",
        "    \"CGPA\":int(input(\"Enter your CGPA\")),\n",
        "    \"Ph No.\":int(input(\"Enter your phone number: \")),\n",
        "    \"Section\":str(input(\"Enter your section: \")),\n",
        "}\n",
        "x=thisdict.get('Ph No.')\n",
        "print(x)\n",
        "print(thisdict.keys())"
      ],
      "metadata": {
        "colab": {
          "base_uri": "https://localhost:8080/"
        },
        "id": "5zCSvu8WjEja",
        "outputId": "abea6d83-ab5e-4bb3-9878-341ebfeb0352"
      },
      "execution_count": 8,
      "outputs": [
        {
          "output_type": "stream",
          "name": "stdout",
          "text": [
            "Enter your name: sadad\n",
            "Enter your CGPA7\n",
            "Enter your phone number: 76856567\n",
            "Enter your section: yu\n",
            "76856567\n",
            "dict_keys(['Name', 'CGPA', 'Ph No.', 'Section'])\n"
          ]
        }
      ]
    },
    {
      "cell_type": "code",
      "source": [
        "student={\n",
        "    \"Name\":str(input()),\n",
        "    \"Age\": int(input()),\n",
        "    \"Number\":int(input())\n",
        "}\n",
        "x=student.keys()\n",
        "print(x)\n",
        "student[\"cgpa\"]=int(input())\n",
        "print(x)\n"
      ],
      "metadata": {
        "colab": {
          "base_uri": "https://localhost:8080/"
        },
        "id": "35ouPgdokpaq",
        "outputId": "3ebe55fd-d97f-49e0-f34e-6cd47fc0061d"
      },
      "execution_count": 9,
      "outputs": [
        {
          "output_type": "stream",
          "name": "stdout",
          "text": [
            "dz\n",
            "44\n",
            "4432\n",
            "dict_keys(['Name', 'Age', 'Number'])\n",
            "45\n",
            "dict_keys(['Name', 'Age', 'Number', 'cgpa'])\n"
          ]
        }
      ]
    }
  ]
}