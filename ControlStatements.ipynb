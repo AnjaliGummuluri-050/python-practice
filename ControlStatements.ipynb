{
  "nbformat": 4,
  "nbformat_minor": 0,
  "metadata": {
    "colab": {
      "name": "ControlStatements.ipynb",
      "provenance": [],
      "collapsed_sections": [],
      "authorship_tag": "ABX9TyMvmdMuSIGBwUC9Y9JFzmUl",
      "include_colab_link": true
    },
    "kernelspec": {
      "name": "python3",
      "display_name": "Python 3"
    },
    "language_info": {
      "name": "python"
    }
  },
  "cells": [
    {
      "cell_type": "markdown",
      "metadata": {
        "id": "view-in-github",
        "colab_type": "text"
      },
      "source": [
        "<a href=\"https://colab.research.google.com/github/AnjaliGummuluri-050/python-practice/blob/main/ControlStatements.ipynb\" target=\"_parent\"><img src=\"https://colab.research.google.com/assets/colab-badge.svg\" alt=\"Open In Colab\"/></a>"
      ]
    },
    {
      "cell_type": "code",
      "execution_count": 5,
      "metadata": {
        "colab": {
          "base_uri": "https://localhost:8080/"
        },
        "id": "0I8UJl3zPj_h",
        "outputId": "6f690b97-5684-42ea-d18d-035e69b68daf"
      },
      "outputs": [
        {
          "output_type": "stream",
          "name": "stdout",
          "text": [
            "Enter age 2\n",
            "Not\n"
          ]
        }
      ],
      "source": [
        "#Find out if a person is eligible for voting or not(dynamic)\n",
        "a=int(input(\"Enter age \"))\n",
        "if a>=18:\n",
        "  print('Eligible')\n",
        "else:\n",
        "  print('Not')"
      ]
    },
    {
      "cell_type": "code",
      "source": [
        "#Find out if a person is eligible for voting or not(static)\n",
        "a=2\n",
        "if a>=18:\n",
        "  print('eligible')\n",
        "else:\n",
        "  print('not eligible')"
      ],
      "metadata": {
        "colab": {
          "base_uri": "https://localhost:8080/"
        },
        "id": "wCQKVzUYRLwh",
        "outputId": "172b73ef-a97a-40cb-da42-4b5c6fa3049a"
      },
      "execution_count": 7,
      "outputs": [
        {
          "output_type": "stream",
          "name": "stdout",
          "text": [
            "not eligible\n"
          ]
        }
      ]
    },
    {
      "cell_type": "code",
      "source": [
        "#Find out the maximum of 3 numbers\n",
        "a=int(input(\"Enter the first number\"))\n",
        "b=int(input(\"Enter the second number\"))\n",
        "c=int(input(\"Enter the third number\"))\n",
        "if a>b and a>c:\n",
        "  print(a)\n",
        "elif b>c and b>a:\n",
        "  print(b)\n",
        "else:\n",
        "  print(c)"
      ],
      "metadata": {
        "colab": {
          "base_uri": "https://localhost:8080/"
        },
        "id": "G3rVZ3M8Rtih",
        "outputId": "57b633ed-f5aa-4512-977f-3d81bf6b1f17"
      },
      "execution_count": 15,
      "outputs": [
        {
          "output_type": "stream",
          "name": "stdout",
          "text": [
            "Enter the first number3\n",
            "Enter the second number8\n",
            "Enter the third number1\n",
            "8\n"
          ]
        }
      ]
    },
    {
      "cell_type": "code",
      "source": [
        "#Find the greatest marks of 5 subjects\n",
        "a=int(input(\"Enter your marks for the 1st subject \"))\n",
        "b=int(input(\"Enter your marks for the 2nd subject \"))\n",
        "c=int(input(\"Enter your marks for the 3rd subject \"))\n",
        "d=int(input(\"Enter your marks for the 4th subject \"))\n",
        "e=int(input(\"Enter your marks for the 5th subject \"))\n",
        "if a>b and a>c and a>d and a>e: \n",
        "  print(a)\n",
        "elif b>a and b>c and b>d and b>e: \n",
        "  print(b)\n",
        "elif c>a and c>b and c>d and c>e:\n",
        "  print(c)\n",
        "elif d>a and d>b and d>c and d>e:\n",
        "  print(d)\n",
        "else:\n",
        "  print(e)"
      ],
      "metadata": {
        "colab": {
          "base_uri": "https://localhost:8080/"
        },
        "id": "UGSOnyVqUCXQ",
        "outputId": "4882979d-daad-485a-84cb-1c675ffcd31b"
      },
      "execution_count": 17,
      "outputs": [
        {
          "output_type": "stream",
          "name": "stdout",
          "text": [
            "Enter marks for the 1st subject 12\n",
            "Enter marks for the 2nd subject 33\n",
            "Enter marks for the 3rd subject 66\n",
            "Enter marks for the 4th subject 77\n",
            "Enter marks for the 5th subject 43\n",
            "77\n"
          ]
        }
      ]
    },
    {
      "cell_type": "code",
      "source": [
        "#Check whether the triangle is equilateral, isosceles, or scalene triangle.\n",
        "a=int(input(\"Enter the length of the 1st side of a triangle \"))\n",
        "b=int(input(\"Enter the length of the 2nd side of a triangle \"))\n",
        "c=int(input(\"Enter the length of the 3rd side of a triangle \"))\n",
        "if a==b==c:\n",
        "  print('equilateral')\n",
        "elif a==b or a==c and a!=c or a!=b:\n",
        "  print('isoceles')\n",
        "else:\n",
        "  print('scalene')"
      ],
      "metadata": {
        "colab": {
          "base_uri": "https://localhost:8080/"
        },
        "id": "EfIBO9DbWFnQ",
        "outputId": "dfe0060c-d606-498e-f035-31b4137f8c0c"
      },
      "execution_count": 24,
      "outputs": [
        {
          "output_type": "stream",
          "name": "stdout",
          "text": [
            "Enter the length of the 1st side of a triangle 2\n",
            "Enter the length of the 2nd side of a triangle 3\n",
            "Enter the length of the 3rd side of a triangle 2\n",
            "isoceles\n"
          ]
        }
      ]
    },
    {
      "cell_type": "markdown",
      "source": [
        "Check whether entered year is a leap year or not"
      ],
      "metadata": {
        "id": "rDyBnKBaXqq-"
      }
    },
    {
      "cell_type": "code",
      "source": [
        "a=int(input(\"Enter the year\"))\n",
        "if(a%100==0 and a%4==0):\n",
        "  print(str(a)+\" is a leap year\")\n",
        "elif (a%4==0):\n",
        "  print(str(a)+\" is a leap year\")\n",
        "else:\n",
        "  print(\" is not a leap year\")\n"
      ],
      "metadata": {
        "colab": {
          "base_uri": "https://localhost:8080/"
        },
        "id": "WWAMGGcPXs6G",
        "outputId": "983d80e3-4059-498a-aeb6-60e9e2d1b929"
      },
      "execution_count": 30,
      "outputs": [
        {
          "output_type": "stream",
          "name": "stdout",
          "text": [
            "Enter the year1987\n",
            " is not a leap year\n"
          ]
        }
      ]
    },
    {
      "cell_type": "markdown",
      "source": [
        "Find minimum among three numbers"
      ],
      "metadata": {
        "id": "Dt3fSdA3ZsO-"
      }
    },
    {
      "cell_type": "code",
      "source": [
        "a=int(input(\"Enter the 1st number\"))\n",
        "b=int(input(\"Enter the 2nd number\"))\n",
        "c=int(input(\"Enter the 3rd number\"))\n",
        "if a<b and a<c:\n",
        "  print(a)\n",
        "elif b<a and b<c:\n",
        "  print(b)\n",
        "else:\n",
        "  print(c)"
      ],
      "metadata": {
        "colab": {
          "base_uri": "https://localhost:8080/"
        },
        "id": "7yUjKPOXZvyE",
        "outputId": "a781d4ff-3c7f-42c1-97d4-42c209427f19"
      },
      "execution_count": 31,
      "outputs": [
        {
          "output_type": "stream",
          "name": "stdout",
          "text": [
            "Enter the 1st number2\n",
            "Enter the 2nd number1\n",
            "Enter the 3rd number4\n",
            "1\n"
          ]
        }
      ]
    },
    {
      "cell_type": "markdown",
      "source": [
        "Check whether a number is divisible by 5 and 11 or not."
      ],
      "metadata": {
        "id": "5kgBkdCQaShT"
      }
    },
    {
      "cell_type": "code",
      "source": [
        "num=int(input(\"Enter a number\"))\n",
        "if(num%5==0 and num%11==0):\n",
        "  print(str(num)+\" is divisible by 5 & 11\")\n",
        "else:\n",
        "  print(str(num)+\" is not divisible by 5 & 11\")"
      ],
      "metadata": {
        "colab": {
          "base_uri": "https://localhost:8080/"
        },
        "id": "b2Cydtl3aVeK",
        "outputId": "e4009763-2e28-4c8c-a6bb-9375f4a003f4"
      },
      "execution_count": 33,
      "outputs": [
        {
          "output_type": "stream",
          "name": "stdout",
          "text": [
            "Enter a number50\n",
            "50 is not divisible by 5 & 11\n"
          ]
        }
      ]
    },
    {
      "cell_type": "markdown",
      "source": [
        "Find factorial of a number"
      ],
      "metadata": {
        "id": "SxfN94DEa0_t"
      }
    },
    {
      "cell_type": "code",
      "source": [
        "num = int(input(\"enter a number: \"))\n",
        " \n",
        "fac = 1\n",
        "i = 1\n",
        " \n",
        "while i <= num:\n",
        "  fac = fac * i\n",
        "  i = i + 1\n",
        " \n",
        "print(\"factorial of \", num, \" is \", fac)"
      ],
      "metadata": {
        "colab": {
          "base_uri": "https://localhost:8080/"
        },
        "id": "ZwghZtdWa4RM",
        "outputId": "37e3d990-2796-41d4-9e32-42e1664ae46c"
      },
      "execution_count": 37,
      "outputs": [
        {
          "output_type": "stream",
          "name": "stdout",
          "text": [
            "enter a number: 5\n",
            "factorial of  5  is  120\n"
          ]
        }
      ]
    },
    {
      "cell_type": "markdown",
      "source": [
        "Check whether number is a palindrome or not"
      ],
      "metadata": {
        "id": "bJuNiaOtd4j0"
      }
    },
    {
      "cell_type": "code",
      "source": [
        "n=int(input(\"Enter a number\"))\n",
        "b=n\n",
        "s=0\n",
        "r=n%10\n",
        "s=s+r*10\n",
        "n=n/10\n",
        "if s==b:\n",
        "  print(str(n)+\" is a palindrome number\")\n",
        "else:\n",
        "  print(\"not palindrome\")"
      ],
      "metadata": {
        "colab": {
          "base_uri": "https://localhost:8080/"
        },
        "id": "BlQ6HIWrd8uj",
        "outputId": "63aa73d5-f743-4f83-f942-f863392c847f"
      },
      "execution_count": 38,
      "outputs": [
        {
          "output_type": "stream",
          "name": "stdout",
          "text": [
            "Enter a number121\n",
            "not palindrome\n"
          ]
        }
      ]
    }
  ]
}